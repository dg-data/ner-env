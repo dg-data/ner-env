{
 "cells": [
  {
   "cell_type": "code",
   "execution_count": 0,
   "id": "smelly-farting",
   "metadata": {},
   "outputs": [],
   "source": [
    "from ipywidgets import Image\n",
    "from IPython import display\n",
    "gif = open('loading.gif', 'rb')\n",
    "image = gif.read()\n",
    "widget = Image(value=image, format='gif', width=768, height=576)\n",
    "display.display(widget)"
   ]
  },
  {
   "cell_type": "code",
   "execution_count": 1,
   "id": "cooperative-production",
   "metadata": {},
   "outputs": [
    {
     "name": "stderr",
     "output_type": "stream",
     "text": [
      "Using TensorFlow backend.\n",
      "[nltk_data] Downloading package averaged_perceptron_tagger to\n",
      "[nltk_data]     /home/jovyan/nltk_data...\n",
      "[nltk_data]   Package averaged_perceptron_tagger is already up-to-\n",
      "[nltk_data]       date!\n"
     ]
    }
   ],
   "source": [
    "import pandas as pd\n",
    "import re\n",
    "from arcgis.learn import prepare_data\n",
    "import geopy\n",
    "from geopy.geocoders import Nominatim, Photon\n",
    "from geopy.extra.rate_limiter import RateLimiter\n",
    "import json_lines\n",
    "from facebook_scraper import get_posts\n",
    "from json import loads\n",
    "from requests import post as po\n",
    "from neurotpr import geoparse\n",
    "import ast\n",
    "from functools import partial\n",
    "from ipyleaflet import LayerGroup, Marker, Map, basemaps, WidgetControl\n",
    "from ipywidgets import Button\n",
    "json_path = 'bkk.jsonl'\n",
    "from silence_tensorflow import silence_tensorflow\n",
    "silence_tensorflow()\n",
    "# !pip install 'h5py<3.0.0'"
   ]
  },
  {
   "cell_type": "code",
   "execution_count": 3,
   "id": "aerial-wholesale",
   "metadata": {},
   "outputs": [],
   "source": [
    "txt = open(json_path, \"w\")\n",
    "i = 0\n",
    "for post in get_posts('bkkinfobudapest', pages=100):\n",
    "    if len(str(post['text'].find('Baleset'))) == 1:\n",
    "        i += 1\n",
    "        txt.write(\n",
    "        ''.join(('{\"id\": ', str(i), ', \"text\": \"', post['text'][2:post['text'].rfind('\\nBKK.HU\\n')].replace('.\\n', ''),\n",
    "               '\", \"meta\": {}, \"annotation_approver\": null, \"comments\": [], \"labels\": []}', '\\n')))\n",
    "txt.close()"
   ]
  },
  {
   "cell_type": "code",
   "execution_count": 2,
   "id": "vocal-shelf",
   "metadata": {},
   "outputs": [],
   "source": [
    "def english(text):\n",
    "    HEADERS = {\n",
    "    \"Host\": \"www.bing.com\",\n",
    "    \"User-Agent\": \"Mozilla/5.0 (Windows NT 6.1; WOW64; rv:52.0) Gecko/20100101 Firefox/52.0\",\n",
    "    \"Accept\": \"*/*\",\n",
    "    \"Accept-Language\": \"en-US,en;q=0.5\",\n",
    "    \"Accept-Encoding\": \"gzip, deflate\",\n",
    "    \"Referer\": \"https://www.bing.com/\",\n",
    "    \"Content-Type\": \"application/x-www-form-urlencoded\",\n",
    "    \"Connection\": \"keep-alive\"\n",
    "    }\n",
    "    PARAMS = {'IG' : '839D27F8277F4AA3B0EDB83C255D0D70', 'IID' : 'translator.5033.3'}\n",
    "    text = text.replace(' M ', ' ')\n",
    "    text = re.sub(r'(?<!^)(?<!\\. )[A-Z\\u00C0-\\u00DC][a-z\\u00C0-\\u017F]+', lambda x: '+'+''.join(\n",
    "        [c.upper() if index % 2 == 0 else c.lower() for index, c in enumerate(x.group(0))]), text)\n",
    "    request = po(\"https://www.bing.com/ttranslatev3\", headers=HEADERS, params=PARAMS, data={'text': str(text), 'fromLang': 'hu', 'to': 'en'})\n",
    "    if request.status_code < 400:\n",
    "        return(loads(request.text)[0][\"translations\"][0][\"text\"])\n",
    "    return(text)"
   ]
  },
  {
   "cell_type": "code",
   "execution_count": 3,
   "id": "saving-reserve",
   "metadata": {},
   "outputs": [
    {
     "name": "stderr",
     "output_type": "stream",
     "text": [
      "/srv/conda/envs/notebook/lib/python3.7/site-packages/arcgis/learn/models/_arcgis_model.py:336: UserWarning: Cuda is not available\n",
      "  warnings.warn(\"Cuda is not available\")\n",
      "WARNING:root:No Address tag found in your data.\n",
      "                1. If your data has an address field, pass your address field name as address tag in class mapping \n",
      "                e.g. - data=prepare_data(dataset_type=ds_type,path=training_data_folder,\n",
      "\t\t\t                    class_mapping={address_tag:address_field_name})\n",
      "                2. Else no action is required, if your data does not have any address information.\n"
     ]
    },
    {
     "name": "stdout",
     "output_type": "stream",
     "text": [
      "WARNING:tensorflow:From /srv/conda/envs/notebook/lib/python3.7/site-packages/tensorflow_core/python/ops/resource_variable_ops.py:1630: calling BaseResourceVariable.__init__ (from tensorflow.python.ops.resource_variable_ops) with constraint is deprecated and will be removed in a future version.\n",
      "Instructions for updating:\n",
      "If using Keras pass *_constraint arguments to layers.\n"
     ]
    },
    {
     "name": "stderr",
     "output_type": "stream",
     "text": [
      "WARNING:tensorflow:From /srv/conda/envs/notebook/lib/python3.7/site-packages/tensorflow_core/python/ops/resource_variable_ops.py:1630: calling BaseResourceVariable.__init__ (from tensorflow.python.ops.resource_variable_ops) with constraint is deprecated and will be removed in a future version.\n",
      "Instructions for updating:\n",
      "If using Keras pass *_constraint arguments to layers.\n"
     ]
    },
    {
     "name": "stdout",
     "output_type": "stream",
     "text": [
      "INFO:tensorflow:Saver not created because there are no variables in the graph to restore\n"
     ]
    },
    {
     "name": "stderr",
     "output_type": "stream",
     "text": [
      "INFO:tensorflow:Saver not created because there are no variables in the graph to restore\n"
     ]
    },
    {
     "name": "stdout",
     "output_type": "stream",
     "text": [
      "Loaded pretrained NeuroTPR model\n",
      "WARNING:tensorflow:From /srv/conda/envs/notebook/lib/python3.7/site-packages/keras/backend/tensorflow_backend.py:422: The name tf.global_variables is deprecated. Please use tf.compat.v1.global_variables instead.\n",
      "\n"
     ]
    },
    {
     "name": "stderr",
     "output_type": "stream",
     "text": [
      "WARNING:tensorflow:From /srv/conda/envs/notebook/lib/python3.7/site-packages/keras/backend/tensorflow_backend.py:422: The name tf.global_variables is deprecated. Please use tf.compat.v1.global_variables instead.\n",
      "\n"
     ]
    },
    {
     "name": "stdout",
     "output_type": "stream",
     "text": [
      "WARNING:tensorflow:From /srv/conda/envs/notebook/lib/python3.7/site-packages/keras/backend/tensorflow_backend.py:431: The name tf.is_variable_initialized is deprecated. Please use tf.compat.v1.is_variable_initialized instead.\n",
      "\n"
     ]
    },
    {
     "name": "stderr",
     "output_type": "stream",
     "text": [
      "WARNING:tensorflow:From /srv/conda/envs/notebook/lib/python3.7/site-packages/keras/backend/tensorflow_backend.py:431: The name tf.is_variable_initialized is deprecated. Please use tf.compat.v1.is_variable_initialized instead.\n",
      "\n"
     ]
    },
    {
     "name": "stdout",
     "output_type": "stream",
     "text": [
      "WARNING:tensorflow:From /srv/conda/envs/notebook/lib/python3.7/site-packages/keras/backend/tensorflow_backend.py:438: The name tf.variables_initializer is deprecated. Please use tf.compat.v1.variables_initializer instead.\n",
      "\n"
     ]
    },
    {
     "name": "stderr",
     "output_type": "stream",
     "text": [
      "WARNING:tensorflow:From /srv/conda/envs/notebook/lib/python3.7/site-packages/keras/backend/tensorflow_backend.py:438: The name tf.variables_initializer is deprecated. Please use tf.compat.v1.variables_initializer instead.\n",
      "\n"
     ]
    }
   ],
   "source": [
    "with open(\"bkk.jsonl\", \"rb\") as file:\n",
    "    for row in json_lines.reader(file):\n",
    "        pass\n",
    "data = prepare_data(path=json_path, batch_size=int(row['id'])-1, val_split_pct=0.01,\n",
    "                    class_mapping={'address_tag':'Address'}, dataset_type='ner_json')\n",
    "news = list([english(o[0]) for o in data.data.train_ds.data])\n",
    "topos = []\n",
    "geoparse.load_model(\"../PretrainedModel/\")\n",
    "for text in news:\n",
    "    topos.append(ast.literal_eval(geoparse.topo_recog(re.sub(r'(\\+\\w+)', lambda x: ''.join(\n",
    "        [c.lower() if index != 1 and c.isupper() else c for index, c in enumerate(\n",
    "        x.group(0))]), text).replace('+', '').replace('wharf', 'Square').replace('sq','Sq').replace('str','Str').replace('bou','Bou').replace('roa','Roa'))))"
   ]
  },
  {
   "cell_type": "code",
   "execution_count": 9,
   "id": "active-opening",
   "metadata": {},
   "outputs": [],
   "source": [
    "df = pd.DataFrame({'location': []})\n",
    "for row in topos:\n",
    "    df = df.append({'location': row}, ignore_index='True')\n",
    "df['extracted'] = df.location.apply(lambda x: [y['location_name'] for y in x if len(y['location_name']) > 5][0])"
   ]
  },
  {
   "cell_type": "code",
   "execution_count": 8,
   "id": "frequent-position",
   "metadata": {},
   "outputs": [
    {
     "data": {
      "text/plain": [
       "['Due to an accident, the road leading to +FeRiHeGyI +RePüLőTéRrE was closed at the +RePüLőTéR, D port. Bus 200E is diverted and does not affect +FeRiHeGy train station, +RePüLőTéR, D porta and +RePüLőTéRi +ReNdŐr +IgTheGaTóG stop',\n",
       " 'There was an accident on the +KöNyVeS +KáLmÁn boulevard towards the +RáKóCzI bridge at +GyÁlI road. Instead of tram 1, you can take a replacement bus between +KöZvÁgÓhÍd H and +NéPlIgEt',\n",
       " 'There was an accident on the +KöNyVeS +KáLmÁn boulevard towards the +ÁrPáD bridge in front of the +GyÁlI road overpass. Instead of tram 1, you can take a replacement bus between +KöZvÁgÓhÍd and +NéPlIgEt',\n",
       " 'There was an accident on +VáMhÁz boulevard towards +KáLvIn square at +LóNyAy street. Trams 47 and 49 do not run between +DeÁk +FeReNc square and +SzEnT +GeLlÉrT tér - +ArtificialEgYeTeM. We recommend using the 72M trolleybus, bus 9 and metro line M4. Buses 15 and 115 are diverted and do not affect +LóNyAy Street, +CzUcZoR Street and +TöRöK +PáL Utca',\n",
       " 'There was an accident on the 16th, +ThÖkÖlY road at +SaShAlMi Square. Bus 277 is diverted and does not affect stops between +BuDaPeStI road and +NaGyIcCe H',\n",
       " 'There was an accident on the +MaRgIt boulevard towards +SzÉlL +KáLmÁn square at +TöRöK street. Tram 17 does not run between +SzÉlL +KáLmÁn square and +MaRgIt bridge, buda bridgehead. We recommend using trams 4, 6, 19 and 41 and metro line M2',\n",
       " 'There was an accident on the way of King +NaGy +LaJoS towards the introductory section of the M3 at +KoMóCsY street. You can take a replacement bus between trams 3, 62 and 62A between +ÖrS Main Square and +BoSnYáK Square',\n",
       " 'There was an accident on XIV., +VeZéR street at +BaZsArÓzSa street. Instead of trolleybus 82, there is a replacement bus on the entire line, which does not affect the +GöDöLlŐi utca stop',\n",
       " 'There was an accident on the 19th, +ÜlLőI road near +MáTyÁs király street. Instead of tram 50, there is a replacement bus between +HaTáR road and +ViLlAnYtElEp',\n",
       " 'An accident makes it difficult to get around +BéKe street inwards near +FrAnGePáN Street. Bus number 105 is diverted and does not affect +BéKe tér and +FrAnGePáN street towards +GyÖnGyÖsI street, and +FrAnGePáN street stop towards +ApOr +ViLmOs square',\n",
       " \"An accident makes it difficult to travel on the +NaGy +LaJoS king's road at +SzUgLó street. Bus number 32 runs on a modified route and does not affect the +SzUgLó utca / +NaGy +LaJoS King's Road stop\",\n",
       " 'aleset happened on +VöRöSmArTy street at +KiRáLyHáGó street. Instead of tram 52, you can take a replacement bus between +NaGySáNdOr +JóZsEf street and +PeStErZsÉbEt, +PaCsIrTaTeLeP',\n",
       " 'There was an accident on the +MaRgIt boulevard towards +SzÉlL +KáLmÁn square at +TöRöK street. Buses 91, 191 and 291 run on a modified route and do not affect the +MaRgIt bridge, buda bridgehead H stop due to accident',\n",
       " 'In the event of an accident, the +ErZsÉbEt bridge is located in the direction of Pest. Damaged vehicles occupy two lanes, with congestion on +HeGyAlJa Road and +KrIsZtInA Boulevard in front of the bridge. The BKK services concerned are operated with increased journey times',\n",
       " \"There was an accident on xi., +GaZdAgRéTi road at +AnGyAlKa street. The road's closed, traffic's on. Buses 153 and 154 are diverted through +RéTkÖz street, stops between +GaZdAgRéTi road and +GaZdAgRéTi square are not affected\",\n",
       " 'There was an accident on the +KrIsZtInA boulevard towards +AlKoTáS street at +FeSzTy +ÁrPáD street. Tram 56 runs from +MóRiCz +ZsIgMoNd roundabout to +SzÉlL +KáLmÁn square, you can take a replacement bus on the missed section. Towards +VáRoShÁz square, the tram is on the original route',\n",
       " 'Due to an accident, the 7th, +BeThLeN +GáBoR street was closed at +IsTvÁn street. Trolleybus 78 runs on a modified route and does not affect +KeLeTi Station (+GaRaY Street)',\n",
       " 'There was an accident on xvii., +ZrÍnYi street at +NaGySzEnTmIkLóS street, so it was closed. Bus 161 is diverted and is not affected by +ReGéLő street, +CsÁsZáRfA street, +NaGySzEnTmIkLóSi road, +KuCoRgÓ square and +VeCsEy +FeReNc street, Bus 162 is +Kindergarten Street, +AlSóDaBaS Street, +ReGéLő Street, +CsÁsZáRfA Street and +NaGySzEnTmIkLóSi Street, and Bus 202E stops at +KuCoRgÓ Square, +NaGySzEnTmIkLóSi Street, +CsÁsZáRfA Street and +ReGéLő Street stop',\n",
       " 'Due to an accident, the +KaCsÓh +PoNgRáC road overpass to the +KóS +KáRoLy promenade has been closed, prepare for tumultus on the introductory section of the M3. Trolleybus 74 runs less frequently',\n",
       " 'There was an accident on xii., +NaGyEnYeD street at +BöSzÖrMéNyI road. Instead of trams 59 and 59B, you can take a replacement bus between +SzÉlL +KáLmÁn square and +MáRtOn +ÁrOn square',\n",
       " 'There was an accident on xx., +BrAsSó street at +SzAbAdKa street. Bus number 99 is diverted and does not affect the stops between +TeMeSvÁr street and +PeStErZsÉbEt, +MáTyÁs király tér terminus',\n",
       " 'There was an accident on +BéCsI Road at +PeRéNyI Road. Instead of trams 17, 19 and 41, you can take a replacement bus between +BéCsI út/+VöRöSvÁrI út and +KaTiNyI Martyrs Park',\n",
       " 'There was an accident on +VáMhÁz boulevard towards +KáLvIn square at +LóNyAy street. Trams 47 and 49 do not run between +DeÁk +FeReNc square and +SzEnT +GeLlÉrT tér - +ArtificialEgYeTeM. We recommend using the 72M trolleybus, bus 9 and metro line M4',\n",
       " 'Due to an accident, road I, +HuNyAdI +JáNoS near +ClArK +Aadám Square was closed. Bus number 16 runs on a diverted route and does not affect the +DoNáTi street stop',\n",
       " 'There was an accident on +WeSsElÉnYi street at +NyÁr street. Trolleybus 74 is diverted and does not affect the +KáRoLy boulevard (+AsToRiA), +NaGy +DiÓfA street and +NyÁr utca',\n",
       " 'There was an accident on the 17th, +SzEnT +ImRe Prince Road near +RoBoGó Street. Bus 176E is diverted, does not affect stops between +RoBoGó street and XVII street, and +RoBoGo street stop has been relocated',\n",
       " 'Due to an accident, buses 123 and 123A are diverted and do not affect the +SzAlÁrDi +MóR utca and +PaCsIrTa street stops. Bus 223M is diverted and does not affect +SzAlÁrDi +MóR utca stop',\n",
       " 'There was an accident on route II, +FaRkAsToRkI at +ViHaRhEgYi road. Bus 137 runs on an abbreviated route between +SzEnTlÉlEk square and +FaRkAsToRkI road stop',\n",
       " 'There was an accident on +GuBaCsI Road at +TiMóT Street. Instead of tram 51, you can take a replacement bus between +KoPpÁnY Street and +GuBaCsI Road/+HaTáR Road',\n",
       " 'There was an accident on the XI. +TéNyI road in front of +BaRtÓk +BéLa road. Buses 7, 58, 114, 153, 213 and 214 are diverted to the city centre and do not affect +KaRoLiNa road and +KoSzToLáNyI +DeZsŐ tér',\n",
       " 'There was an accident on route XI, +TéNyI road at +EtElE road. Instead of tram 1, there is a replacement bus between +KeLeNfÖlD train station and +EtElE road / +FeHéRvÁrI road',\n",
       " 'There has been an accident on +MaRkÓ street at +BaLaSsI +BáLiNt street, trams 2 and 2M do not run between +JaSAi +MaRi Square and +KoSsUtH +LaJoS Square. We recommend using buses 15 and 115',\n",
       " 'An accident makes it difficult to travel on the XVIII, +ÜlLőI road at +VáRoShÁz street. Buses 93 and 93A run on a modified route and do not affect the +ThÖkÖlY road stop',\n",
       " 'There was an accident on the 17th, +TáNcSiCs +MiHáLy road at +SzÉcHeNyI street. Bus 198 is diverted and does not affect stops between +MaDáRdOmB street and +RáKoShEgY train station',\n",
       " 'There was an accident on the 3rd, +VöRöSvÁrI road towards +FlÓrIáN square at +SzŐŐ street. Instead of tram 1, there is a replacement bus between +SzEnTlÉlEk tér H and +BéCsI út/+VöRöSvÁrI út. We also recommend buses 137, 218 and 237',\n",
       " 'An accident makes it difficult to travel on the XIX, +ÜlLőI road at +SzIgLiGeTi street. The road is not viable in either direction, traffic is congested. Bus 136E is diverted, does not affect the +ÁrPáD utca stop, buses 93 and 93A also take a modified route, skips stops between +KiSpEsT, +KoSsUtH Square and +SiMoNyI +ZsIgMoNd street and +BoZsIk +StAdIoN',\n",
       " 'An accident makes it difficult to travel on the XIX, +ÜlLőI road at +SzIgLiGeTi street. The road is not viable in either direction, traffic is congested. Buses 136E, 93 and 93A run on a modified route and do not affect +ÁrPáD utca stop',\n",
       " 'There was an accident on the 19th, +ÜlLőI road at +TöRöK street. Instead of tram 50, there is a replacement bus between +HaTáR road and +ViLlAnYtElEp',\n",
       " \"There was an accident on the 3rd, +BéCsI road at +VáRaDi street. Instead of trams 17, 19 and 41, you can take a replacement bus between +BéCsI út/+VöRöSvÁrI road and +KaTiNyI Martyrs' Park. Bus 160 is diverted and does not affect the +SzEnT +MaRgIt +KóRhÁz stop\",\n",
       " 'There was an accident on XIII., +HeGeDűS +GyUlA street at +BaLzAc street. Buses 15 and 115 are diverted and do not affect the +SzEnT +IsTvÁn boulevard, +RaDnÓtI +MiKlÓs utca and +CsAnÁdY utca (+LeHeL tér) stops']"
      ]
     },
     "execution_count": 8,
     "metadata": {},
     "output_type": "execute_result"
    }
   ],
   "source": [
    "# news"
   ]
  },
  {
   "cell_type": "code",
   "execution_count": 6,
   "id": "medium-tonight",
   "metadata": {},
   "outputs": [],
   "source": [
    "def geocode_locations(processed_df, city, region, address_col):\n",
    "    # creating address with city and region\n",
    "    add_miner = processed_df[address_col].apply(lambda x: x+f', {city} '+f', {region}')\n",
    "    locators = [Nominatim(user_agent=\"Twitterbot/1.0\"), Photon(user_agent = \"Twitterbot/1.0\")]\n",
    "    geocode1 = RateLimiter(locators[0].geocode, min_delay_seconds=1)\n",
    "    geocode2 = RateLimiter(locators[1].geocode, min_delay_seconds=1)\n",
    "    processed_df['location'] = processed_df[address_col].apply(lambda x: x+f', {city} '+f', {region}').apply(\n",
    "        partial(geocode2, limit=1, location_bias=(47.5, 19.1)))\n",
    "   \n",
    "    def recode(row):\n",
    "        if (not row.location) or (str(tuple(row.location)[0])[:2]!='47'):\n",
    "            row['location'] = geocode1(str(row['extracted']) + f', {city} ' + f', {region}')\n",
    "        return(row)\n",
    "    \n",
    "    processed_df = processed_df.apply(recode, axis=1)\n",
    "    processed_df['point'] = processed_df['location'].apply(lambda loc: tuple(loc.point) if loc else None)\n",
    "        \n",
    "    return processed_df"
   ]
  },
  {
   "cell_type": "code",
   "execution_count": 7,
   "id": "missing-racing",
   "metadata": {},
   "outputs": [],
   "source": [
    "def prepare_sdf(processed_df):\n",
    "    processed_df = processed_df.query('point == point')\n",
    "    sdf = processed_df.reset_index(drop=True)\n",
    "    sdf['geo_x_y'] = sdf['point'].apply(lambda x: (str(x[1]) if x is not None else '') + ',' + str(x[0]) if x is not None else '')\n",
    "    sdf = pd.DataFrame.spatial.from_df(sdf, address_column='geo_x_y') # adding geometry to the dataframe\n",
    "    sdf.drop(['location','geo_x_y','point'], axis=1, inplace=True)\n",
    "    return sdf"
   ]
  },
  {
   "cell_type": "code",
   "execution_count": 4,
   "id": "marine-electron",
   "metadata": {},
   "outputs": [],
   "source": [
    "def refresh_marks(button):\n",
    "    txt = open(json_path, \"w\")\n",
    "    i = 0\n",
    "    for post in get_posts('bkkinfobudapest', pages=100):\n",
    "        if len(str(post['text'].find('Baleset'))) == 1:\n",
    "            i += 1\n",
    "            txt.write(\n",
    "            ''.join(('{\"id\": ', str(i), ', \"text\": \"', post['text'][2:post['text'].rfind('\\nBKK.HU\\n')].replace('.\\n', ''),\n",
    "                   '\", \"meta\": {}, \"annotation_approver\": null, \"comments\": [], \"labels\": []}', '\\n')))\n",
    "    txt.close()\n",
    "    with open(json_path, \"rb\") as file:\n",
    "        for row in json_lines.reader(file):\n",
    "            pass\n",
    "    data = prepare_data(path=json_path, batch_size=int(row['id'])-1, val_split_pct=0.01,\n",
    "                    class_mapping={'address_tag':'Address'}, dataset_type='ner_json')\n",
    "    news = list([english(o[0]) for o in data.data.train_ds.data])\n",
    "    topos = []\n",
    "    for text in news:\n",
    "        topos.append(ast.literal_eval(geoparse.topo_recog(re.sub(r'(\\+\\w+)', lambda x: ''.join([c.lower() if index != 1 and c.isupper() else c for index, c in enumerate(\n",
    "            x.group(0))]), text).replace('+', '').replace('wharf', 'Square').replace('sq','Sq').replace('str','Str').replace('bou','Bou').replace('roa','Roa'))))\n",
    "    df = pd.DataFrame({'location': []})\n",
    "    for row in topos:\n",
    "        df = df.append({'location': row}, ignore_index='True')\n",
    "    df['extracted'] = df.location.apply(lambda x: [y['location_name'] for y in x if len(y['location_name']) > 5][0])\n",
    "    processed_df = geocode_locations(df.tail(100), 'Budapest', 'Hungary', 'extracted')\n",
    "    [marks.remove_layer(m) for m in marks.layers]\n",
    "    processed_df = processed_df.drop_duplicates(subset=['extracted'], keep='first').reset_index(drop=True)\n",
    "    for idx in processed_df.index:\n",
    "        row = processed_df.iloc[idx]\n",
    "        if row.point is not None:\n",
    "            mark = Marker(location=(row.point[0], row.point[1]), title=str(row[\"extracted\"]), radius=5, color=\"red\")\n",
    "            marks.add_layer(mark)"
   ]
  },
  {
   "cell_type": "code",
   "execution_count": 10,
   "id": "editorial-floating",
   "metadata": {},
   "outputs": [
    {
     "name": "stderr",
     "output_type": "stream",
     "text": [
      "WARNING:urllib3.connectionpool:Retrying (Retry(total=1, connect=None, read=None, redirect=None, status=None)) after connection broken by 'ReadTimeoutError(\"HTTPSConnectionPool(host='photon.komoot.io', port=443): Read timed out. (read timeout=1)\")': /api?q=Mark%C3%B3+Street%2C+Budapest+%2C+Hungary&limit=1&lon=19.1&lat=47.5\n",
      "WARNING:urllib3.connectionpool:Retrying (Retry(total=0, connect=None, read=None, redirect=None, status=None)) after connection broken by 'ReadTimeoutError(\"HTTPSConnectionPool(host='photon.komoot.io', port=443): Read timed out. (read timeout=1)\")': /api?q=Mark%C3%B3+Street%2C+Budapest+%2C+Hungary&limit=1&lon=19.1&lat=47.5\n"
     ]
    },
    {
     "data": {
      "application/vnd.jupyter.widget-view+json": {
       "model_id": "2a94b576916645adb0ba2826d16cdfc3",
       "version_major": 2,
       "version_minor": 0
      },
      "text/plain": [
       "Map(center=[47.51, 19.04], controls=(ZoomControl(options=['position', 'zoom_in_text', 'zoom_in_title', 'zoom_o…"
      ]
     },
     "metadata": {},
     "output_type": "display_data"
    }
   ],
   "source": [
    "processed_df = geocode_locations(df.tail(100), city='Budapest', region='Hungary', address_col='extracted')\n",
    "m = Map(center=(47.51, 19.04), zoom=11.5, basemap=basemaps.CartoDB.Positron)\n",
    "marks = LayerGroup()\n",
    "for idx in processed_df.index:\n",
    "    row = processed_df.iloc[idx]\n",
    "    if row.point is not None:\n",
    "        mark = Marker(\n",
    "        location=(row.point[0], row.point[1]),\n",
    "        title=str(row[\"extracted\"]),\n",
    "        radius=5)\n",
    "        marks.add_layer(mark)\n",
    "m.add_layer(marks)\n",
    "refresh_button = Button(description='Refresh')\n",
    "m.add_control(WidgetControl(widget=refresh_button, position='bottomright'))\n",
    "refresh_button.on_click(refresh_marks)\n",
    "widget.close()\n",
    "m"
   ]
  },
  {
   "cell_type": "code",
   "execution_count": null,
   "id": "understood-absolute",
   "metadata": {},
   "outputs": [],
   "source": []
  }
 ],
 "metadata": {
  "kernelspec": {
   "display_name": "Python 3",
   "language": "python",
   "name": "python3"
  },
  "language_info": {
   "codemirror_mode": {
    "name": "ipython",
    "version": 3
   },
   "file_extension": ".py",
   "mimetype": "text/x-python",
   "name": "python",
   "nbconvert_exporter": "python",
   "pygments_lexer": "ipython3",
   "version": "3.7.10"
  }
 },
 "nbformat": 4,
 "nbformat_minor": 5
}
